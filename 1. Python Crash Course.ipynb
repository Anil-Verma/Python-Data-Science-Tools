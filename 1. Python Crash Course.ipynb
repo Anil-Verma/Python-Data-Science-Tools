{
 "cells": [
  {
   "cell_type": "markdown",
   "metadata": {},
   "source": [
    "# 1. Data Types"
   ]
  },
  {
   "cell_type": "markdown",
   "metadata": {},
   "source": [
    "### Numbers"
   ]
  },
  {
   "cell_type": "code",
   "execution_count": 1,
   "metadata": {},
   "outputs": [
    {
     "data": {
      "text/plain": [
       "4"
      ]
     },
     "execution_count": 1,
     "metadata": {},
     "output_type": "execute_result"
    }
   ],
   "source": [
    "1+3"
   ]
  },
  {
   "cell_type": "code",
   "execution_count": 2,
   "metadata": {},
   "outputs": [
    {
     "data": {
      "text/plain": [
       "0"
      ]
     },
     "execution_count": 2,
     "metadata": {},
     "output_type": "execute_result"
    }
   ],
   "source": [
    "1//3"
   ]
  },
  {
   "cell_type": "code",
   "execution_count": 3,
   "metadata": {},
   "outputs": [
    {
     "data": {
      "text/plain": [
       "1"
      ]
     },
     "execution_count": 3,
     "metadata": {},
     "output_type": "execute_result"
    }
   ],
   "source": [
    "4//3"
   ]
  },
  {
   "cell_type": "code",
   "execution_count": 4,
   "metadata": {},
   "outputs": [
    {
     "data": {
      "text/plain": [
       "1.3333333333333333"
      ]
     },
     "execution_count": 4,
     "metadata": {},
     "output_type": "execute_result"
    }
   ],
   "source": [
    "4/3"
   ]
  },
  {
   "cell_type": "code",
   "execution_count": 5,
   "metadata": {},
   "outputs": [
    {
     "data": {
      "text/plain": [
       "float"
      ]
     },
     "execution_count": 5,
     "metadata": {},
     "output_type": "execute_result"
    }
   ],
   "source": [
    "type(4/3)"
   ]
  },
  {
   "cell_type": "code",
   "execution_count": 6,
   "metadata": {},
   "outputs": [
    {
     "data": {
      "text/plain": [
       "int"
      ]
     },
     "execution_count": 6,
     "metadata": {},
     "output_type": "execute_result"
    }
   ],
   "source": [
    "type(4//3)"
   ]
  },
  {
   "cell_type": "code",
<<<<<<< HEAD
   "execution_count": 7,
=======
   "execution_count": 9,
>>>>>>> c9e0b2b6a1c2e3be1e3fb7740f9f85c3be07a7a1
   "metadata": {},
   "outputs": [
    {
     "data": {
      "text/plain": [
       "16"
      ]
     },
<<<<<<< HEAD
     "execution_count": 7,
=======
     "execution_count": 9,
>>>>>>> c9e0b2b6a1c2e3be1e3fb7740f9f85c3be07a7a1
     "metadata": {},
     "output_type": "execute_result"
    }
   ],
   "source": [
    "# power\n",
    "2**4"
   ]
  },
  {
   "cell_type": "code",
<<<<<<< HEAD
   "execution_count": 8,
=======
   "execution_count": 10,
>>>>>>> c9e0b2b6a1c2e3be1e3fb7740f9f85c3be07a7a1
   "metadata": {},
   "outputs": [
    {
     "data": {
      "text/plain": [
       "1.4142135623730951"
      ]
     },
<<<<<<< HEAD
     "execution_count": 8,
=======
     "execution_count": 10,
>>>>>>> c9e0b2b6a1c2e3be1e3fb7740f9f85c3be07a7a1
     "metadata": {},
     "output_type": "execute_result"
    }
   ],
   "source": [
    "# root\n",
    "2**0.5"
   ]
  },
  {
   "cell_type": "code",
<<<<<<< HEAD
   "execution_count": 9,
=======
   "execution_count": 11,
>>>>>>> c9e0b2b6a1c2e3be1e3fb7740f9f85c3be07a7a1
   "metadata": {},
   "outputs": [
    {
     "data": {
      "text/plain": [
       "1.7320508075688772"
      ]
     },
<<<<<<< HEAD
     "execution_count": 9,
=======
     "execution_count": 11,
>>>>>>> c9e0b2b6a1c2e3be1e3fb7740f9f85c3be07a7a1
     "metadata": {},
     "output_type": "execute_result"
    }
   ],
   "source": [
    "3**.5"
   ]
  },
  {
   "cell_type": "code",
<<<<<<< HEAD
   "execution_count": 10,
=======
   "execution_count": 12,
>>>>>>> c9e0b2b6a1c2e3be1e3fb7740f9f85c3be07a7a1
   "metadata": {},
   "outputs": [
    {
     "data": {
      "text/plain": [
       "1237940039285380274899124224"
      ]
     },
<<<<<<< HEAD
     "execution_count": 10,
=======
     "execution_count": 12,
>>>>>>> c9e0b2b6a1c2e3be1e3fb7740f9f85c3be07a7a1
     "metadata": {},
     "output_type": "execute_result"
    }
   ],
   "source": [
    "4**45"
   ]
  },
  {
   "cell_type": "code",
<<<<<<< HEAD
   "execution_count": 11,
=======
   "execution_count": 13,
>>>>>>> c9e0b2b6a1c2e3be1e3fb7740f9f85c3be07a7a1
   "metadata": {},
   "outputs": [
    {
     "data": {
      "text/plain": [
       "1.8660659830736148"
      ]
     },
<<<<<<< HEAD
     "execution_count": 11,
=======
     "execution_count": 13,
>>>>>>> c9e0b2b6a1c2e3be1e3fb7740f9f85c3be07a7a1
     "metadata": {},
     "output_type": "execute_result"
    }
   ],
   "source": [
    "4**.45"
   ]
  },
  {
   "cell_type": "code",
<<<<<<< HEAD
   "execution_count": 12,
=======
   "execution_count": 14,
>>>>>>> c9e0b2b6a1c2e3be1e3fb7740f9f85c3be07a7a1
   "metadata": {},
   "outputs": [
    {
     "data": {
      "text/plain": [
       "2"
      ]
     },
<<<<<<< HEAD
     "execution_count": 12,
=======
     "execution_count": 14,
>>>>>>> c9e0b2b6a1c2e3be1e3fb7740f9f85c3be07a7a1
     "metadata": {},
     "output_type": "execute_result"
    }
   ],
   "source": [
    "5%3"
   ]
  },
  {
   "cell_type": "code",
<<<<<<< HEAD
   "execution_count": 13,
=======
   "execution_count": 16,
>>>>>>> c9e0b2b6a1c2e3be1e3fb7740f9f85c3be07a7a1
   "metadata": {},
   "outputs": [
    {
     "data": {
      "text/plain": [
       "1.0294117647058822"
      ]
     },
<<<<<<< HEAD
     "execution_count": 13,
=======
     "execution_count": 16,
>>>>>>> c9e0b2b6a1c2e3be1e3fb7740f9f85c3be07a7a1
     "metadata": {},
     "output_type": "execute_result"
    }
   ],
   "source": [
    "5 * (3+4) /34"
   ]
  },
  {
   "cell_type": "markdown",
   "metadata": {},
   "source": [
<<<<<<< HEAD
    "----"
   ]
  },
  {
   "cell_type": "markdown",
   "metadata": {},
   "source": [
    "## Printing"
   ]
  },
  {
   "cell_type": "code",
   "execution_count": 38,
   "metadata": {},
   "outputs": [
    {
     "data": {
      "text/plain": [
       "'hello'"
      ]
     },
     "execution_count": 38,
     "metadata": {},
     "output_type": "execute_result"
    }
   ],
   "source": [
    "x = 'hello'\n",
    "x"
   ]
  },
  {
   "cell_type": "code",
   "execution_count": 39,
   "metadata": {},
   "outputs": [
    {
     "name": "stdout",
     "output_type": "stream",
     "text": [
      "hello\n"
     ]
    }
   ],
   "source": [
    "print(x)"
   ]
  },
  {
   "cell_type": "code",
   "execution_count": 40,
   "metadata": {},
   "outputs": [],
   "source": [
    "name = 'Anil'\n",
    "salary = 150000\n",
    "address = ''' 445 Mount Eden Road, \n",
    "Mount Eden, \n",
    "Auckland\n",
    "'''"
   ]
  },
  {
   "cell_type": "code",
   "execution_count": 42,
   "metadata": {},
   "outputs": [
    {
     "name": "stdout",
     "output_type": "stream",
     "text": [
      "name =  Anil \n",
      "salary =  150000 \n",
      "address =   445 Mount Eden Road, \n",
      "Mount Eden, \n",
      "Auckland\n",
      "\n"
     ]
    }
   ],
   "source": [
    "print('name = ',name, \"\\nsalary = \", salary, \"\\naddress = \",address)"
   ]
  },
  {
   "cell_type": "code",
   "execution_count": 43,
   "metadata": {},
   "outputs": [
    {
     "name": "stdout",
     "output_type": "stream",
     "text": [
      "Name = Anil \n",
      "Salary = 150000 \n",
      "Address =  445 Mount Eden Road, \n",
      "Mount Eden, \n",
      "Auckland\n",
      "\n"
     ]
    }
   ],
   "source": [
    "print('Name = {} \\nSalary = {} \\nAddress = {}'.format(name, salary, address))"
   ]
  },
  {
   "cell_type": "code",
   "execution_count": null,
   "metadata": {},
   "outputs": [],
   "source": []
  },
  {
   "cell_type": "code",
   "execution_count": null,
   "metadata": {},
   "outputs": [],
   "source": []
  },
  {
   "cell_type": "markdown",
   "metadata": {},
   "source": [
=======
>>>>>>> c9e0b2b6a1c2e3be1e3fb7740f9f85c3be07a7a1
    "### Loop"
   ]
  },
  {
   "cell_type": "code",
<<<<<<< HEAD
   "execution_count": 14,
=======
   "execution_count": 17,
>>>>>>> c9e0b2b6a1c2e3be1e3fb7740f9f85c3be07a7a1
   "metadata": {},
   "outputs": [
    {
     "data": {
      "text/plain": [
       "range(0, 10)"
      ]
     },
<<<<<<< HEAD
     "execution_count": 14,
=======
     "execution_count": 17,
>>>>>>> c9e0b2b6a1c2e3be1e3fb7740f9f85c3be07a7a1
     "metadata": {},
     "output_type": "execute_result"
    }
   ],
   "source": [
    "range(10)"
   ]
  },
  {
   "cell_type": "code",
<<<<<<< HEAD
   "execution_count": 15,
=======
   "execution_count": 18,
>>>>>>> c9e0b2b6a1c2e3be1e3fb7740f9f85c3be07a7a1
   "metadata": {},
   "outputs": [
    {
     "data": {
      "text/plain": [
       "[range(0, 10)]"
      ]
     },
<<<<<<< HEAD
     "execution_count": 15,
=======
     "execution_count": 18,
>>>>>>> c9e0b2b6a1c2e3be1e3fb7740f9f85c3be07a7a1
     "metadata": {},
     "output_type": "execute_result"
    }
   ],
   "source": [
    "[range(10)]"
   ]
  },
  {
   "cell_type": "code",
<<<<<<< HEAD
   "execution_count": 16,
=======
   "execution_count": 20,
>>>>>>> c9e0b2b6a1c2e3be1e3fb7740f9f85c3be07a7a1
   "metadata": {},
   "outputs": [
    {
     "name": "stdout",
     "output_type": "stream",
     "text": [
      "0 1 2 3 4 5 6 7 8 9 "
     ]
    }
   ],
   "source": [
    "for i in range(10):\n",
    "    print(i, end=\" \")"
   ]
  },
  {
   "cell_type": "code",
<<<<<<< HEAD
   "execution_count": 17,
=======
   "execution_count": 21,
>>>>>>> c9e0b2b6a1c2e3be1e3fb7740f9f85c3be07a7a1
   "metadata": {},
   "outputs": [
    {
     "name": "stdout",
     "output_type": "stream",
     "text": [
      "0    0\n",
      "1    1\n",
      "4    8\n",
      "9    27\n",
      "16    64\n"
     ]
    }
   ],
   "source": [
    "for i in range(5):\n",
    "    print(i**2,\"  \",i**3)"
   ]
  },
  {
   "cell_type": "markdown",
   "metadata": {},
   "source": [
    "### While Loop"
   ]
  },
  {
   "cell_type": "code",
<<<<<<< HEAD
   "execution_count": 18,
=======
   "execution_count": 1,
>>>>>>> c9e0b2b6a1c2e3be1e3fb7740f9f85c3be07a7a1
   "metadata": {},
   "outputs": [
    {
     "name": "stdout",
     "output_type": "stream",
     "text": [
      "10 9 8 7 6 5 4 3 2 1 "
     ]
    }
   ],
   "source": [
    "i = 10\n",
    "while(i>0):\n",
    "    print(i, end=\" \")\n",
    "    i-=1"
   ]
  },
  {
   "cell_type": "markdown",
   "metadata": {},
   "source": [
    "**Converting range into a list by using list function**"
   ]
  },
  {
   "cell_type": "code",
<<<<<<< HEAD
   "execution_count": 19,
=======
   "execution_count": 2,
>>>>>>> c9e0b2b6a1c2e3be1e3fb7740f9f85c3be07a7a1
   "metadata": {},
   "outputs": [
    {
     "data": {
      "text/plain": [
       "[0, 1, 2, 3, 4, 5, 6, 7, 8, 9]"
      ]
     },
<<<<<<< HEAD
     "execution_count": 19,
=======
     "execution_count": 2,
>>>>>>> c9e0b2b6a1c2e3be1e3fb7740f9f85c3be07a7a1
     "metadata": {},
     "output_type": "execute_result"
    }
   ],
   "source": [
    "list(range(10))"
   ]
  },
  {
   "cell_type": "code",
<<<<<<< HEAD
   "execution_count": 20,
=======
   "execution_count": 3,
>>>>>>> c9e0b2b6a1c2e3be1e3fb7740f9f85c3be07a7a1
   "metadata": {},
   "outputs": [
    {
     "data": {
      "text/plain": [
       "[0, 3, 6, 9, 12, 15, 18, 21, 24]"
      ]
     },
<<<<<<< HEAD
     "execution_count": 20,
=======
     "execution_count": 3,
>>>>>>> c9e0b2b6a1c2e3be1e3fb7740f9f85c3be07a7a1
     "metadata": {},
     "output_type": "execute_result"
    }
   ],
   "source": [
    "list(range(0,25,3))"
   ]
  },
  {
   "cell_type": "markdown",
   "metadata": {},
   "source": [
    "## List Comprehension"
   ]
  },
  {
   "cell_type": "code",
<<<<<<< HEAD
   "execution_count": 21,
=======
   "execution_count": 4,
>>>>>>> c9e0b2b6a1c2e3be1e3fb7740f9f85c3be07a7a1
   "metadata": {},
   "outputs": [
    {
     "name": "stdout",
     "output_type": "stream",
     "text": [
      "[0, 1, 4, 9, 16]\n"
     ]
    }
   ],
   "source": [
    "out = []\n",
    "for i in range(5):\n",
    "    out.append(i**2)\n",
    "print(out)"
   ]
  },
  {
   "cell_type": "code",
<<<<<<< HEAD
   "execution_count": 22,
=======
   "execution_count": 5,
>>>>>>> c9e0b2b6a1c2e3be1e3fb7740f9f85c3be07a7a1
   "metadata": {},
   "outputs": [
    {
     "data": {
      "text/plain": [
       "[0, 1, 4, 9, 16]"
      ]
     },
<<<<<<< HEAD
     "execution_count": 22,
=======
     "execution_count": 5,
>>>>>>> c9e0b2b6a1c2e3be1e3fb7740f9f85c3be07a7a1
     "metadata": {},
     "output_type": "execute_result"
    }
   ],
   "source": [
    "[i**2 for i in range(5)]"
   ]
  },
  {
   "cell_type": "markdown",
   "metadata": {},
   "source": [
    "## Function"
   ]
  },
  {
   "cell_type": "code",
<<<<<<< HEAD
   "execution_count": 23,
=======
   "execution_count": 6,
>>>>>>> c9e0b2b6a1c2e3be1e3fb7740f9f85c3be07a7a1
   "metadata": {},
   "outputs": [],
   "source": [
    "def func1(param='default'):\n",
    "    print(param)\n",
    "    return"
   ]
  },
  {
   "cell_type": "code",
<<<<<<< HEAD
   "execution_count": 24,
=======
   "execution_count": 7,
>>>>>>> c9e0b2b6a1c2e3be1e3fb7740f9f85c3be07a7a1
   "metadata": {},
   "outputs": [
    {
     "data": {
      "text/plain": [
       "<function __main__.func1(param='default')>"
      ]
     },
<<<<<<< HEAD
     "execution_count": 24,
=======
     "execution_count": 7,
>>>>>>> c9e0b2b6a1c2e3be1e3fb7740f9f85c3be07a7a1
     "metadata": {},
     "output_type": "execute_result"
    }
   ],
   "source": [
    "func1"
   ]
  },
  {
   "cell_type": "code",
<<<<<<< HEAD
   "execution_count": 25,
=======
   "execution_count": 8,
>>>>>>> c9e0b2b6a1c2e3be1e3fb7740f9f85c3be07a7a1
   "metadata": {},
   "outputs": [
    {
     "name": "stdout",
     "output_type": "stream",
     "text": [
      "default\n"
     ]
    }
   ],
   "source": [
    "func1()"
   ]
  },
  {
   "cell_type": "code",
<<<<<<< HEAD
   "execution_count": 26,
=======
   "execution_count": 10,
>>>>>>> c9e0b2b6a1c2e3be1e3fb7740f9f85c3be07a7a1
   "metadata": {},
   "outputs": [
    {
     "name": "stdout",
     "output_type": "stream",
     "text": [
      "test\n"
     ]
    }
   ],
   "source": [
    "func1('test')"
   ]
  },
  {
   "cell_type": "code",
<<<<<<< HEAD
   "execution_count": 27,
=======
   "execution_count": 11,
>>>>>>> c9e0b2b6a1c2e3be1e3fb7740f9f85c3be07a7a1
   "metadata": {},
   "outputs": [],
   "source": [
    "def square(x):\n",
    "    return x**2"
   ]
  },
  {
   "cell_type": "code",
<<<<<<< HEAD
   "execution_count": 28,
=======
   "execution_count": 12,
>>>>>>> c9e0b2b6a1c2e3be1e3fb7740f9f85c3be07a7a1
   "metadata": {},
   "outputs": [
    {
     "data": {
      "text/plain": [
       "2025"
      ]
     },
<<<<<<< HEAD
     "execution_count": 28,
=======
     "execution_count": 12,
>>>>>>> c9e0b2b6a1c2e3be1e3fb7740f9f85c3be07a7a1
     "metadata": {},
     "output_type": "execute_result"
    }
   ],
   "source": [
    "square(45)"
   ]
  },
  {
   "cell_type": "code",
<<<<<<< HEAD
   "execution_count": 29,
=======
   "execution_count": 13,
>>>>>>> c9e0b2b6a1c2e3be1e3fb7740f9f85c3be07a7a1
   "metadata": {},
   "outputs": [],
   "source": [
    "def sqrt(x):\n",
    "    return x**0.5"
   ]
  },
  {
   "cell_type": "code",
<<<<<<< HEAD
   "execution_count": 30,
=======
   "execution_count": 14,
>>>>>>> c9e0b2b6a1c2e3be1e3fb7740f9f85c3be07a7a1
   "metadata": {},
   "outputs": [
    {
     "data": {
      "text/plain": [
       "4.795831523312719"
      ]
     },
<<<<<<< HEAD
     "execution_count": 30,
=======
     "execution_count": 14,
>>>>>>> c9e0b2b6a1c2e3be1e3fb7740f9f85c3be07a7a1
     "metadata": {},
     "output_type": "execute_result"
    }
   ],
   "source": [
    "sqrt(23)"
   ]
  },
  {
   "cell_type": "markdown",
   "metadata": {},
   "source": [
    "## Lambda Expression"
   ]
  },
  {
   "cell_type": "code",
<<<<<<< HEAD
   "execution_count": 31,
=======
   "execution_count": 15,
>>>>>>> c9e0b2b6a1c2e3be1e3fb7740f9f85c3be07a7a1
   "metadata": {},
   "outputs": [],
   "source": [
    "def time2(var):\n",
    "    return var**2"
   ]
  },
  {
   "cell_type": "code",
<<<<<<< HEAD
   "execution_count": 32,
=======
   "execution_count": 16,
>>>>>>> c9e0b2b6a1c2e3be1e3fb7740f9f85c3be07a7a1
   "metadata": {},
   "outputs": [
    {
     "data": {
      "text/plain": [
       "16"
      ]
     },
<<<<<<< HEAD
     "execution_count": 32,
=======
     "execution_count": 16,
>>>>>>> c9e0b2b6a1c2e3be1e3fb7740f9f85c3be07a7a1
     "metadata": {},
     "output_type": "execute_result"
    }
   ],
   "source": [
    "time2(4)"
   ]
  },
  {
   "cell_type": "code",
<<<<<<< HEAD
   "execution_count": 33,
=======
   "execution_count": 17,
>>>>>>> c9e0b2b6a1c2e3be1e3fb7740f9f85c3be07a7a1
   "metadata": {},
   "outputs": [
    {
     "data": {
      "text/plain": [
       "<function __main__.<lambda>(x)>"
      ]
     },
<<<<<<< HEAD
     "execution_count": 33,
=======
     "execution_count": 17,
>>>>>>> c9e0b2b6a1c2e3be1e3fb7740f9f85c3be07a7a1
     "metadata": {},
     "output_type": "execute_result"
    }
   ],
   "source": [
    "lambda x: x**2"
   ]
  },
  {
   "cell_type": "markdown",
   "metadata": {},
   "source": [
    "## Map Functions"
   ]
  },
  {
   "cell_type": "code",
<<<<<<< HEAD
   "execution_count": 34,
=======
   "execution_count": 19,
>>>>>>> c9e0b2b6a1c2e3be1e3fb7740f9f85c3be07a7a1
   "metadata": {},
   "outputs": [
    {
     "data": {
      "text/plain": [
       "[1, 2, 3, 4, 5]"
      ]
     },
<<<<<<< HEAD
     "execution_count": 34,
=======
     "execution_count": 19,
>>>>>>> c9e0b2b6a1c2e3be1e3fb7740f9f85c3be07a7a1
     "metadata": {},
     "output_type": "execute_result"
    }
   ],
   "source": [
    "seq = list(range(1,6))\n",
    "seq"
   ]
  },
  {
   "cell_type": "code",
<<<<<<< HEAD
   "execution_count": 35,
=======
   "execution_count": 20,
>>>>>>> c9e0b2b6a1c2e3be1e3fb7740f9f85c3be07a7a1
   "metadata": {},
   "outputs": [
    {
     "data": {
      "text/plain": [
<<<<<<< HEAD
       "<map at 0x1fe5af78a90>"
      ]
     },
     "execution_count": 35,
=======
       "<map at 0x259c3977780>"
      ]
     },
     "execution_count": 20,
>>>>>>> c9e0b2b6a1c2e3be1e3fb7740f9f85c3be07a7a1
     "metadata": {},
     "output_type": "execute_result"
    }
   ],
   "source": [
    "map( lambda x: x**2, seq)"
   ]
  },
  {
   "cell_type": "markdown",
   "metadata": {},
   "source": [
    "**pass the map into the list to get the values**"
   ]
  },
  {
   "cell_type": "code",
<<<<<<< HEAD
   "execution_count": 36,
=======
   "execution_count": 21,
>>>>>>> c9e0b2b6a1c2e3be1e3fb7740f9f85c3be07a7a1
   "metadata": {},
   "outputs": [
    {
     "data": {
      "text/plain": [
       "[1, 4, 9, 16, 25]"
      ]
     },
<<<<<<< HEAD
     "execution_count": 36,
=======
     "execution_count": 21,
>>>>>>> c9e0b2b6a1c2e3be1e3fb7740f9f85c3be07a7a1
     "metadata": {},
     "output_type": "execute_result"
    }
   ],
   "source": [
    "list(map(lambda x: x**2, seq))"
   ]
  },
  {
   "cell_type": "code",
<<<<<<< HEAD
   "execution_count": 37,
=======
   "execution_count": 22,
>>>>>>> c9e0b2b6a1c2e3be1e3fb7740f9f85c3be07a7a1
   "metadata": {},
   "outputs": [
    {
     "data": {
      "text/plain": [
       "[2, 4, 6, 8, 10]"
      ]
     },
<<<<<<< HEAD
     "execution_count": 37,
=======
     "execution_count": 22,
>>>>>>> c9e0b2b6a1c2e3be1e3fb7740f9f85c3be07a7a1
     "metadata": {},
     "output_type": "execute_result"
    }
   ],
   "source": [
    "list(map(lambda x:x*2, seq))"
   ]
  },
  {
   "cell_type": "code",
   "execution_count": null,
   "metadata": {},
   "outputs": [],
   "source": []
  },
  {
   "cell_type": "code",
   "execution_count": null,
   "metadata": {},
   "outputs": [],
   "source": []
  },
  {
   "cell_type": "code",
   "execution_count": null,
   "metadata": {},
   "outputs": [],
   "source": []
  },
  {
   "cell_type": "code",
   "execution_count": null,
   "metadata": {},
   "outputs": [],
   "source": []
  },
  {
   "cell_type": "code",
   "execution_count": null,
   "metadata": {},
   "outputs": [],
   "source": []
  },
  {
   "cell_type": "code",
   "execution_count": null,
   "metadata": {},
   "outputs": [],
   "source": []
  },
  {
   "cell_type": "code",
   "execution_count": null,
   "metadata": {},
   "outputs": [],
   "source": []
  },
  {
   "cell_type": "code",
   "execution_count": null,
   "metadata": {},
   "outputs": [],
   "source": []
  },
  {
   "cell_type": "code",
   "execution_count": null,
   "metadata": {},
   "outputs": [],
   "source": []
  },
  {
   "cell_type": "code",
   "execution_count": null,
   "metadata": {},
   "outputs": [],
   "source": []
  },
  {
   "cell_type": "code",
   "execution_count": null,
   "metadata": {},
   "outputs": [],
   "source": []
  },
  {
   "cell_type": "code",
   "execution_count": null,
   "metadata": {},
   "outputs": [],
   "source": []
  },
  {
   "cell_type": "code",
   "execution_count": null,
   "metadata": {},
   "outputs": [],
   "source": []
  },
  {
   "cell_type": "code",
   "execution_count": null,
   "metadata": {},
   "outputs": [],
   "source": []
  },
  {
   "cell_type": "code",
   "execution_count": null,
   "metadata": {},
   "outputs": [],
   "source": []
  },
  {
   "cell_type": "code",
   "execution_count": null,
   "metadata": {},
   "outputs": [],
   "source": []
  },
  {
   "cell_type": "code",
   "execution_count": null,
   "metadata": {},
   "outputs": [],
   "source": []
  }
 ],
 "metadata": {
  "kernelspec": {
   "display_name": "Python 3",
   "language": "python",
   "name": "python3"
  },
  "language_info": {
   "codemirror_mode": {
    "name": "ipython",
    "version": 3
   },
   "file_extension": ".py",
   "mimetype": "text/x-python",
   "name": "python",
   "nbconvert_exporter": "python",
   "pygments_lexer": "ipython3",
   "version": "3.7.0"
  }
 },
 "nbformat": 4,
 "nbformat_minor": 2
}
